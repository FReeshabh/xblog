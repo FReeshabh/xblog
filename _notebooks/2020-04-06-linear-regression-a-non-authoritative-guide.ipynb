{
 "cells": [
  {
   "cell_type": "markdown",
   "metadata": {},
   "source": [
    "# Linear Regression: A non-authoritative guide\n"
    "> An incomplete guide to Linear Regression.\n",
    "\n",
    "- toc: true \n",
    "- badges: true\n",
    "- comments: false\n",
    "- author: Rishabh Tewari\n",
    "- categories: [machine-learning]"
   ]
  },
  {
   "cell_type": "markdown",
   "metadata": {},
   "source": [
    "This is a rather amateur attempt at explanation of Linear Regression. One of the first algorithms taught to students starting Machine Learning. If this is for an assignment, I urge you to not copy this any of this code. This blog post is a modified version of one of my first homework assignments from my Machine Learning class."
   ]
  },
  {
   "cell_type": "markdown",
   "metadata": {},
   "source": [
    "## Dependencies\n",
    "1. Programming Knowledge to understand the walkthrough (Python in this case)\n",
    "    - [NumPy](https://numpy.org) for linear algebra computations\n",
    "    - Pandas (Optional) - To import read our csv. You could use other things such as Excel files.\n",
    "    - matplotlib - To graph\n",
    "    - **Refer to [CS 231's introduction to Python](https://cs231n.github.io/python-numpy-tutorial/)** for an introduction/review to Python, Numpy, and scikit\n",
    "2. A dataset to test upon. In this tutorial I shall be using the [carbig dataset from Matlab](https://www.mathworks.com/help/stats/sample-data-sets.html).\n",
    "3. High school math equivalent knowledge: For this tutorial I expect you to understand basic algebra, graphs, maybe a bit of linear algebra. I'll still try to make this as much as a self contained tutorial as I can\n",
    "\n",
    "I am not going to explain every single function I use in this tutorial,I highly encourage people to look up the reference guides for NumPy and alike"
   ]
  },
  {
   "cell_type": "markdown",
   "metadata": {},
   "source": [
    "## Initial Setup\n",
    "Since I am writing this Notebook in Kaggle, the code below is some setup boiler plate, go through the code to get an idea of what's happening in there."
   ]
  },
  {
   "cell_type": "code",
   "execution_count": 1,
   "metadata": {
    "_cell_guid": "b1076dfc-b9ad-4769-8c92-a6c4dae69d19",
    "_uuid": "8f2839f25d086af736a60e9eeb907d3b93b6e0e5"
   },
   "outputs": [],
   "source": [
    "# This Python 3 environment comes with many helpful analytics libraries installed\n",
    "# It is defined by the kaggle/python docker image: https://github.com/kaggle/docker-python\n",
    "# For example, here's several helpful packages to load in \n",
    "\n",
    "import numpy as np # linear algebra\n",
    "import pandas as pd # data processing, CSV file I/O (e.g. pd.read_csv)\n",
    "import matplotlib.pyplot as plt # To graph"
   ]
  },
  {
   "cell_type": "markdown",
   "metadata": {},
   "source": [
    "## About the dataset\n",
    "The carbig dataset is a relatively simple dataset, with two columns: Weight and Horsepower. Our task in this case would be a simple \"Given this weight, predict the Horsepower\". In this dataset, we notice that there are a few missing datapoints for the Horsepower column, so we need to deal with that too."
   ]
  },
  {
   "cell_type": "code",
   "execution_count": 2,
   "metadata": {},
   "outputs": [],
   "source": [
    "# Loading up the dataset\n",
    "carbig_data = pd.read_csv(\"/kaggle/input/proj1-dataset/proj1Dataset.csv\")\n",
    "\n",
    "# Assign Data to variables\n",
    "X = carbig_data['Weight']\n",
    "carbig_data['Horsepower'] = carbig_data['Horsepower'].fillna(carbig_data['Horsepower'].median()) #Replacing missing values with the median\n",
    "t_target = carbig_data['Horsepower']"
   ]
  },
  {
   "cell_type": "markdown",
   "metadata": {},
   "source": [
    "So in the code above, we loaded up our data, and assigned the columns to 2 variables: X and t. We also dealt with the missing values in the code above by replacing them with the median of the rest of the dataset. There's quite a few different methods of dealing with this, this is just one of them."
   ]
  },
  {
   "cell_type": "markdown",
   "metadata": {},
   "source": [
    "> NOTE: For debugging, I suggest you to familiarize yourself with the reshape function within numpy: https://docs.scipy.org/doc/numpy/reference/generated/numpy.ndarray.shape.html . Checking for the shapes of these matrices is one way to tell if you're on the right track, and might explain the steps next."
   ]
  },
  {
   "cell_type": "markdown",
   "metadata": {},
   "source": [
    "### More preprocessing of the data:"
   ]
  },
  {
   "cell_type": "code",
   "execution_count": 3,
   "metadata": {},
   "outputs": [],
   "source": [
    "# Reshape and prep X, and X_norm\n",
    "X = np.reshape(X.values, (-1, 1))\n",
    "X_norm = np.empty(X.shape)\n",
    "X_norm = X/X.max()\n",
    "t_target = np.reshape(t_target.values, (-1, 1))"
   ]
  },
  {
   "cell_type": "markdown",
   "metadata": {},
   "source": [
    "Before implementing the Linear Regression Algorithms, we still need to do one final thing to our X variable. And that is to append a column of ones, so it transforms into something called a design matrix."
   ]
  },
  {
   "cell_type": "code",
   "execution_count": 4,
   "metadata": {},
   "outputs": [],
   "source": [
    "# Add one as the design matrices to both of them\n",
    "X = np.hstack((X, np.ones(X.shape)))\n",
    "X_norm = np.hstack((X_norm, np.ones(X_norm.shape))) # This is our normalized X"
   ]
  },
  {
   "cell_type": "markdown",
   "metadata": {},
   "source": [
    "## Implementing the Linear Regression Algorithm: Closed Form Solution"
   ]
  },
  {
   "cell_type": "code",
   "execution_count": null,
   "metadata": {
    "_cell_guid": "79c7e3d0-c299-4dcb-8224-4455121ee9b0",
    "_uuid": "d629ff2d2480ee46fbb7e2d37f6b5fab8052498a",
    "collapsed": true
   },
   "outputs": [],
   "source": []
  }
 ],
 "metadata": {
  "kernelspec": {
   "display_name": "Python 3",
   "language": "python",
   "name": "python3"
  },
  "language_info": {
   "codemirror_mode": {
    "name": "ipython",
    "version": 3
   },
   "file_extension": ".py",
   "mimetype": "text/x-python",
   "name": "python",
   "nbconvert_exporter": "python",
   "pygments_lexer": "ipython3",
   "version": "3.6.6"
  }
 },
 "nbformat": 4,
 "nbformat_minor": 4
}
